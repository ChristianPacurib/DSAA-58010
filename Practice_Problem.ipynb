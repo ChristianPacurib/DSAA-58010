{
  "nbformat": 4,
  "nbformat_minor": 0,
  "metadata": {
    "colab": {
      "provenance": []
    },
    "kernelspec": {
      "name": "python3",
      "display_name": "Python 3"
    },
    "language_info": {
      "name": "python"
    }
  },
  "cells": [
    {
      "cell_type": "code",
      "execution_count": null,
      "metadata": {
        "colab": {
          "base_uri": "https://localhost:8080/"
        },
        "id": "-bEGMKgY2z8o",
        "outputId": "3540b6b4-c5ec-4b18-9f3c-36211cb295ef"
      },
      "outputs": [
        {
          "output_type": "stream",
          "name": "stdout",
          "text": [
            "Enter First Number:\n",
            "26\n",
            "Enter Second Number:\n",
            "49\n",
            "Enter Third Number:\n",
            "98\n",
            "Enter Fourth Number:\n",
            "87\n",
            "Enter Fifth Number:\n",
            "62\n",
            "Enter Sixth Number:\n",
            "75\n",
            "Sum of 26 , 49 , 98 , 87 , 62 , 75 is 397\n"
          ]
        }
      ],
      "source": [
        "a = int(input(\"Enter First Number:\\n\"))\n",
        "b = int(input(\"Enter Second Number:\\n\"))\n",
        "c = int(input(\"Enter Third Number:\\n\"))\n",
        "d = int(input(\"Enter Fourth Number:\\n\"))\n",
        "e = int(input(\"Enter Fifth Number:\\n\"))\n",
        "f = int(input(\"Enter Sixth Number:\\n\"))\n",
        "Sum = a+b+c+d+e+f\n",
        "print(\"Sum of\", a, \",\", b, \",\" ,c, \",\", d,\",\", e, \",\", f,\"is\", Sum)"
      ]
    }
  ]
}