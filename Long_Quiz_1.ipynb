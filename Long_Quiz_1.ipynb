{
  "nbformat": 4,
  "nbformat_minor": 0,
  "metadata": {
    "colab": {
      "provenance": [],
      "authorship_tag": "ABX9TyOCnaypCLYp1TWgUFoZzycP",
      "include_colab_link": true
    },
    "kernelspec": {
      "name": "python3",
      "display_name": "Python 3"
    },
    "language_info": {
      "name": "python"
    }
  },
  "cells": [
    {
      "cell_type": "markdown",
      "metadata": {
        "id": "view-in-github",
        "colab_type": "text"
      },
      "source": [
        "<a href=\"https://colab.research.google.com/github/ChristianPacurib/DSAA-58010/blob/main/Long_Quiz_1.ipynb\" target=\"_parent\"><img src=\"https://colab.research.google.com/assets/colab-badge.svg\" alt=\"Open In Colab\"/></a>"
      ]
    },
    {
      "cell_type": "code",
      "execution_count": 19,
      "metadata": {
        "colab": {
          "base_uri": "https://localhost:8080/"
        },
        "id": "D9RNUP0ZJk3r",
        "outputId": "0074f9b4-8b0e-40c6-a9a4-23868eaed2d6"
      },
      "outputs": [
        {
          "output_type": "stream",
          "name": "stdout",
          "text": [
            "birucaP asamalaC emoreJ naitsirhC\n"
          ]
        }
      ],
      "source": [
        "full_name = \"Christian Jerome Calamasa Pacurib\"\n",
        "reversed_name = []\n",
        "\n",
        "for char in full_name:\n",
        "    reversed_name.append(char)\n",
        "\n",
        "reversed_name_str = \"\".join(reversed_name)\n",
        "print(reversed_name_str[::-1])"
      ]
    },
    {
      "cell_type": "code",
      "source": [
        "def is_prime(n):\n",
        "  if n <= 1:\n",
        "    return False\n",
        "  elif n <= 3:\n",
        "    return True\n",
        "  elif n % 2== 0 or n %  3 == 0:\n",
        "    return False\n",
        "  i = 5\n",
        "  while i * i <= n:\n",
        "    if n % i == 0 or n % (i + 2) == 0:\n",
        "      return False\n",
        "    i += 6\n",
        "  return True\n",
        "\n",
        "for number in range(1, 11):\n",
        "  if is_prime(number):\n",
        "      print(f\"{number} is prime\")\n",
        "  else:\n",
        "      print(f\"{number} is composite\")"
      ],
      "metadata": {
        "colab": {
          "base_uri": "https://localhost:8080/"
        },
        "id": "cW2X0S38K0lX",
        "outputId": "dd67c9d9-ce13-448d-f49a-e9cb6944f951"
      },
      "execution_count": 16,
      "outputs": [
        {
          "output_type": "stream",
          "name": "stdout",
          "text": [
            "1 is composite\n",
            "2 is prime\n",
            "3 is prime\n",
            "4 is composite\n",
            "5 is prime\n",
            "6 is composite\n",
            "7 is prime\n",
            "8 is composite\n",
            "9 is composite\n",
            "10 is composite\n"
          ]
        }
      ]
    },
    {
      "cell_type": "code",
      "source": [],
      "metadata": {
        "id": "OAZjTqWASZSO"
      },
      "execution_count": null,
      "outputs": []
    }
  ]
}