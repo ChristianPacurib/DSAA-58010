{
  "nbformat": 4,
  "nbformat_minor": 0,
  "metadata": {
    "colab": {
      "provenance": [],
      "authorship_tag": "ABX9TyONsacFon+EtDXCrSlvKPhC",
      "include_colab_link": true
    },
    "kernelspec": {
      "name": "python3",
      "display_name": "Python 3"
    },
    "language_info": {
      "name": "python"
    }
  },
  "cells": [
    {
      "cell_type": "markdown",
      "metadata": {
        "id": "view-in-github",
        "colab_type": "text"
      },
      "source": [
        "<a href=\"https://colab.research.google.com/github/ChristianPacurib/DSAA-58010/blob/main/Activity_2.ipynb\" target=\"_parent\"><img src=\"https://colab.research.google.com/assets/colab-badge.svg\" alt=\"Open In Colab\"/></a>"
      ]
    },
    {
      "cell_type": "code",
      "source": [
        "class Node:\n",
        "    def __init__(self, data):\n",
        "        self.data = data\n",
        "        self.next = None\n",
        "\n",
        "class LinkedList:\n",
        "    def __init__(self):\n",
        "        self.head = None\n",
        "        self.tail = None\n",
        "\n",
        "def is_prime(num):\n",
        "    if num <= 1:\n",
        "        return False\n",
        "    return all(num % i != 0 for i in range(2, int(num**0.5) + 1))\n",
        "\n",
        "def create_prime_linked_list(limit):\n",
        "    prime_list = LinkedList()\n",
        "    for num in range(2, limit):\n",
        "        if is_prime(num):\n",
        "            if not prime_list.head:\n",
        "                prime_list.head = prime_list.tail = Node(num)\n",
        "            else:\n",
        "                prime_list.tail.next = Node(num)\n",
        "                prime_list.tail = prime_list.tail.next\n",
        "    return prime_list\n",
        "\n",
        "def display_linked_list(linked_list):\n",
        "    current = linked_list.head\n",
        "    if current is None:\n",
        "        print(\"The linked list is empty.\")\n",
        "    else:\n",
        "        print(\"Prime numbers in the linked list:\")\n",
        "        while current:\n",
        "            print(current.data, end=\" -> \")\n",
        "            current = current.next\n",
        "        print(\"None\")\n",
        "\n",
        "if __name__ == \"__main__\":\n",
        "    limit = 20\n",
        "    prime_linked_list = create_prime_linked_list(limit)\n",
        "    display_linked_list(prime_linked_list)\n",
        "    if prime_linked_list.head:\n",
        "        print(f\"Head: {prime_linked_list.head.data}\")\n",
        "        print(f\"Tail: {prime_linked_list.tail.data}\")\n",
        ""
      ],
      "metadata": {
        "colab": {
          "base_uri": "https://localhost:8080/"
        },
        "id": "UFLoiUYy2zu_",
        "outputId": "a96b9aec-6d92-4e5e-9ab7-eab9d32265d8"
      },
      "execution_count": 11,
      "outputs": [
        {
          "output_type": "stream",
          "name": "stdout",
          "text": [
            "Prime numbers in the linked list:\n",
            "2 -> 3 -> 5 -> 7 -> 11 -> 13 -> 17 -> 19 -> None\n",
            "Head: 2\n",
            "Tail: 19\n"
          ]
        }
      ]
    },
    {
      "cell_type": "code",
      "source": [
        "def display_linked_list_vertically(linked_list):\n",
        "    current = linked_list.head\n",
        "    if current is None:\n",
        "        print(\"The linked list is empty.\")\n",
        "    else:\n",
        "        print(\"Prime numbers in the linked list:\")\n",
        "        while current:\n",
        "            print(current.data)\n",
        "            current = current.next\n",
        "        print(\"None\")\n",
        "\n",
        "if __name__ == \"__main__\":\n",
        "    limit = 20\n",
        "    prime_linked_list = create_prime_linked_list(limit)\n",
        "    display_linked_list_vertically(prime_linked_list)\n",
        "    if prime_linked_list.head:\n",
        "        print(f\"Head: {prime_linked_list.head.data}\")\n",
        "        print(f\"Tail: {prime_linked_list.tail.data}\")"
      ],
      "metadata": {
        "colab": {
          "base_uri": "https://localhost:8080/"
        },
        "id": "7h2BuMu43cfN",
        "outputId": "d55c2f72-9e68-44b5-d31b-556ede85ef76"
      },
      "execution_count": 12,
      "outputs": [
        {
          "output_type": "stream",
          "name": "stdout",
          "text": [
            "Prime numbers in the linked list:\n",
            "2\n",
            "3\n",
            "5\n",
            "7\n",
            "11\n",
            "13\n",
            "17\n",
            "19\n",
            "None\n",
            "Head: 2\n",
            "Tail: 19\n"
          ]
        }
      ]
    }
  ]
}