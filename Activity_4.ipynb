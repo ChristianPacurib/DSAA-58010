{
  "nbformat": 4,
  "nbformat_minor": 0,
  "metadata": {
    "colab": {
      "provenance": [],
      "authorship_tag": "ABX9TyOu6KM3MlqH7tR8ID+xSJrW",
      "include_colab_link": true
    },
    "kernelspec": {
      "name": "python3",
      "display_name": "Python 3"
    },
    "language_info": {
      "name": "python"
    }
  },
  "cells": [
    {
      "cell_type": "markdown",
      "metadata": {
        "id": "view-in-github",
        "colab_type": "text"
      },
      "source": [
        "<a href=\"https://colab.research.google.com/github/ChristianPacurib/DSAA-58010/blob/main/Activity_4.ipynb\" target=\"_parent\"><img src=\"https://colab.research.google.com/assets/colab-badge.svg\" alt=\"Open In Colab\"/></a>"
      ]
    },
    {
      "cell_type": "markdown",
      "source": [
        "List method"
      ],
      "metadata": {
        "id": "1qwOlmFiXXB2"
      }
    },
    {
      "cell_type": "code",
      "execution_count": 6,
      "metadata": {
        "colab": {
          "base_uri": "https://localhost:8080/"
        },
        "id": "s5diQpMyN9dt",
        "outputId": "b808ec42-0296-4e71-a38f-dbab54c2e860"
      },
      "outputs": [
        {
          "output_type": "stream",
          "name": "stdout",
          "text": [
            "Enqueued:  [2, 4, 6, 8, 10, 12, 14, 16, 18, 20, 22, 24, 26, 28, 30, 32, 34, 36, 38, 40, 42, 44, 46, 48, 50]\n",
            "Dequeued: [50, 48, 46, 44, 42, 40, 38, 36, 34, 32, 30, 28, 26, 24, 22, 20, 18, 16, 14, 12, 10, 8, 6, 4, 2]\n",
            "Queue is empty.\n"
          ]
        }
      ],
      "source": [
        "queue = []\n",
        "\n",
        "for num in range(2, 51, 2):\n",
        "    queue.append(num)\n",
        "\n",
        "print(\"Enqueued: \", queue)\n",
        "\n",
        "dequeued = []\n",
        "while queue:\n",
        "    even_integer = queue.pop(0)\n",
        "    dequeued.insert(0, even_integer)\n",
        "\n",
        "print(\"Dequeued:\", dequeued)\n",
        "\n",
        "print(\"Queue is empty.\")\n",
        "\n"
      ]
    },
    {
      "cell_type": "markdown",
      "source": [
        "Queue method"
      ],
      "metadata": {
        "id": "hlFTWETQXZtn"
      }
    },
    {
      "cell_type": "code",
      "source": [
        "import queue\n",
        "\n",
        "q = queue.Queue()\n",
        "\n",
        "for num in range(2, 51, 2):\n",
        "    q.put(num)\n",
        "\n",
        "print(\"Enqueued:\")\n",
        "enqueued_items = []\n",
        "while not q.empty():\n",
        "    even_integer = q.get()\n",
        "    print(even_integer, end=\" \")\n",
        "    enqueued_items.append(even_integer)\n",
        "\n",
        "\n",
        "print(\"\\n\\nDequeued:\")\n",
        "for even_integer in reversed(enqueued_items):\n",
        "    print(even_integer, end=\" \")\n",
        "\n",
        "print(\"\\nQueue is empty.\")"
      ],
      "metadata": {
        "colab": {
          "base_uri": "https://localhost:8080/"
        },
        "id": "he8vkK2kUAZi",
        "outputId": "187ebae5-def0-45e9-a6e2-54e314de8838"
      },
      "execution_count": 20,
      "outputs": [
        {
          "output_type": "stream",
          "name": "stdout",
          "text": [
            "Enqueued:\n",
            "2 4 6 8 10 12 14 16 18 20 22 24 26 28 30 32 34 36 38 40 42 44 46 48 50 \n",
            "\n",
            "Dequeued:\n",
            "50 48 46 44 42 40 38 36 34 32 30 28 26 24 22 20 18 16 14 12 10 8 6 4 2 \n",
            "Queue is empty.\n"
          ]
        }
      ]
    }
  ]
}