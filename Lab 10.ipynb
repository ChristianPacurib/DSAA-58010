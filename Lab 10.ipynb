{
  "nbformat": 4,
  "nbformat_minor": 0,
  "metadata": {
    "colab": {
      "provenance": [],
      "authorship_tag": "ABX9TyPIttfM7kMWlbw8p7WkbgFU",
      "include_colab_link": true
    },
    "kernelspec": {
      "name": "python3",
      "display_name": "Python 3"
    },
    "language_info": {
      "name": "python"
    }
  },
  "cells": [
    {
      "cell_type": "markdown",
      "metadata": {
        "id": "view-in-github",
        "colab_type": "text"
      },
      "source": [
        "<a href=\"https://colab.research.google.com/github/ChristianPacurib/DSAA-58010/blob/main/Lab%2010.ipynb\" target=\"_parent\"><img src=\"https://colab.research.google.com/assets/colab-badge.svg\" alt=\"Open In Colab\"/></a>"
      ]
    },
    {
      "cell_type": "code",
      "execution_count": null,
      "metadata": {
        "colab": {
          "base_uri": "https://localhost:8080/"
        },
        "id": "44Xaz1HM-vwI",
        "outputId": "5327bb6c-29b6-4b89-9c10-6afa64409118"
      },
      "outputs": [
        {
          "output_type": "stream",
          "name": "stdout",
          "text": [
            "Tree Details:\n",
            "Key: 1, Pre-order: 1, In-order: 4, Post-order: 7\n",
            "Key: 2, Pre-order: 2, In-order: 2, Post-order: 3\n",
            "Key: 4, Pre-order: 3, In-order: 1, Post-order: 1\n",
            "Key: 5, Pre-order: 4, In-order: 3, Post-order: 2\n",
            "Key: 3, Pre-order: 5, In-order: 6, Post-order: 6\n",
            "Key: 6, Pre-order: 6, In-order: 5, Post-order: 4\n",
            "Key: 7, Pre-order: 7, In-order: 7, Post-order: 5\n"
          ]
        }
      ],
      "source": [
        "class TreeNode:\n",
        "    def __init__(self, key):\n",
        "        self.key = key\n",
        "        self.left = None\n",
        "        self.right = None\n",
        "        self.pre_order_number = None\n",
        "        self.in_order_number = None\n",
        "        self.post_order_number = None\n",
        "\n",
        "class NumberedBinaryTree:\n",
        "    def __init__(self):\n",
        "        self.root = None\n",
        "        self.pre_order_counter = 1\n",
        "        self.in_order_counter = 1\n",
        "        self.post_order_counter = 1\n",
        "\n",
        "    def assignNumbers(self, root):\n",
        "        if root is not None:\n",
        "            root.pre_order_number = self.pre_order_counter\n",
        "            self.pre_order_counter += 1\n",
        "            self.assignNumbers(root.left)\n",
        "            root.in_order_number = self.in_order_counter\n",
        "            self.in_order_counter += 1\n",
        "            self.assignNumbers(root.right)\n",
        "            root.post_order_number = self.post_order_counter\n",
        "            self.post_order_counter += 1\n",
        "\n",
        "tree = NumberedBinaryTree()\n",
        "tree.root = TreeNode(1)\n",
        "tree.root.left = TreeNode(2)\n",
        "tree.root.right = TreeNode(3)\n",
        "tree.root.left.left = TreeNode(4)\n",
        "tree.root.left.right = TreeNode(5)\n",
        "tree.root.right.left = TreeNode(6)\n",
        "tree.root.right.right = TreeNode(7)\n",
        "\n",
        "tree.assignNumbers(tree.root)\n",
        "\n",
        "def printNodeDetails(node):\n",
        "    print(f\"Key: {node.key}, Pre-order: {node.pre_order_number}, In-order: {node.in_order_number}, Post-order: {node.post_order_number}\")\n",
        "\n",
        "def printTreeDetails(root):\n",
        "    if root:\n",
        "        printNodeDetails(root)\n",
        "        printTreeDetails(root.left)\n",
        "        printTreeDetails(root.right)\n",
        "\n",
        "print(\"Tree Details:\")\n",
        "printTreeDetails(tree.root)\n"
      ]
    }
  ]
}