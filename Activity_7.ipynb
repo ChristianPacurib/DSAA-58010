{
  "nbformat": 4,
  "nbformat_minor": 0,
  "metadata": {
    "colab": {
      "provenance": [],
      "authorship_tag": "ABX9TyOkHNmKxqzpy9Swz1mSIwG0",
      "include_colab_link": true
    },
    "kernelspec": {
      "name": "python3",
      "display_name": "Python 3"
    },
    "language_info": {
      "name": "python"
    }
  },
  "cells": [
    {
      "cell_type": "markdown",
      "metadata": {
        "id": "view-in-github",
        "colab_type": "text"
      },
      "source": [
        "<a href=\"https://colab.research.google.com/github/ChristianPacurib/DSAA-58010/blob/main/Activity_7.ipynb\" target=\"_parent\"><img src=\"https://colab.research.google.com/assets/colab-badge.svg\" alt=\"Open In Colab\"/></a>"
      ]
    },
    {
      "cell_type": "markdown",
      "source": [
        "Graph Edges"
      ],
      "metadata": {
        "id": "mwprMAY6oY1G"
      }
    },
    {
      "cell_type": "code",
      "source": [
        "class Graph:\n",
        "    def __init__(self, gdict=None):\n",
        "        if gdict is None:\n",
        "            gdict = {}\n",
        "        self.gdict = gdict\n",
        "\n",
        "    def edges(self):\n",
        "        return self.find_edges()\n",
        "\n",
        "    def find_edges(self):\n",
        "        edge_names = []\n",
        "        for vertex in self.gdict:\n",
        "            for next_vertex in self.gdict[vertex]:\n",
        "                if {next_vertex, vertex} not in edge_names:\n",
        "                    edge_names.append({vertex, next_vertex})\n",
        "        return edge_names\n",
        "\n",
        "# Create the dictionary with graph elements\n",
        "graph_elements = {\n",
        "    \"a\": [\"b\", \"c\"],\n",
        "    \"b\": [\"a\", \"d\"],\n",
        "    \"c\": [\"a\", \"d\"],\n",
        "    \"d\": [\"e\"],\n",
        "    \"e\": [\"d\"]\n",
        "}\n",
        "\n",
        "g = Graph(graph_elements)\n",
        "print(g.edges())"
      ],
      "metadata": {
        "colab": {
          "base_uri": "https://localhost:8080/"
        },
        "id": "IDXUBMn4oPR-",
        "outputId": "4460fcc0-59be-49e8-d43b-6afc06bef550"
      },
      "execution_count": 1,
      "outputs": [
        {
          "output_type": "stream",
          "name": "stdout",
          "text": [
            "[{'b', 'a'}, {'a', 'c'}, {'b', 'd'}, {'d', 'c'}, {'d', 'e'}]\n"
          ]
        }
      ]
    },
    {
      "cell_type": "markdown",
      "source": [
        "Graph Vertices"
      ],
      "metadata": {
        "id": "od5_d_WdobHk"
      }
    },
    {
      "cell_type": "code",
      "source": [
        "class Graph:\n",
        "    def __init__(self, gdict=None):\n",
        "        if gdict is None:\n",
        "            gdict = {}\n",
        "        self.gdict = gdict\n",
        "\n",
        "    def get_vertices(self):\n",
        "        return self.get_vertices_list()\n",
        "\n",
        "    def get_vertices_list(self):\n",
        "        return list(self.gdict.keys())\n",
        "\n",
        "# Create the dictionary with graph elements\n",
        "graph_elements = {\n",
        "    \"a\": [\"b\", \"c\"],\n",
        "    \"b\": [\"a\", \"d\"],\n",
        "    \"c\": [\"a\", \"d\"],\n",
        "    \"d\": [\"e\"],\n",
        "    \"e\": [\"d\"]\n",
        "}\n",
        "\n",
        "g = Graph(graph_elements)\n",
        "print(g.get_vertices())"
      ],
      "metadata": {
        "colab": {
          "base_uri": "https://localhost:8080/"
        },
        "id": "hMq8kqCSoPcm",
        "outputId": "084f273e-8b43-4bf6-81be-0f36e824d741"
      },
      "execution_count": 2,
      "outputs": [
        {
          "output_type": "stream",
          "name": "stdout",
          "text": [
            "['a', 'b', 'c', 'd', 'e']\n"
          ]
        }
      ]
    }
  ]
}