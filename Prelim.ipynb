{
  "nbformat": 4,
  "nbformat_minor": 0,
  "metadata": {
    "colab": {
      "provenance": [],
      "authorship_tag": "ABX9TyM57+J16TOxF7yxrFxp60eb",
      "include_colab_link": true
    },
    "kernelspec": {
      "name": "python3",
      "display_name": "Python 3"
    },
    "language_info": {
      "name": "python"
    }
  },
  "cells": [
    {
      "cell_type": "markdown",
      "metadata": {
        "id": "view-in-github",
        "colab_type": "text"
      },
      "source": [
        "<a href=\"https://colab.research.google.com/github/ChristianPacurib/DSAA-58010/blob/main/Prelim.ipynb\" target=\"_parent\"><img src=\"https://colab.research.google.com/assets/colab-badge.svg\" alt=\"Open In Colab\"/></a>"
      ]
    },
    {
      "cell_type": "code",
      "execution_count": 7,
      "metadata": {
        "colab": {
          "base_uri": "https://localhost:8080/"
        },
        "id": "2al-QQ_Yab5l",
        "outputId": "c57f14b6-598c-4d9b-bf74-79a79b70b3e5"
      },
      "outputs": [
        {
          "output_type": "stream",
          "name": "stdout",
          "text": [
            "397\n",
            "[26, 49, 62, 75, 87, 98]\n"
          ]
        }
      ],
      "source": [
        "Data = [ 26, 49, 98, 87, 62, 75 ];s=0\n",
        "for i,a in enumerate(Data):\n",
        "  s+=a\n",
        "print(s)\n",
        "\n",
        "Data = [26, 49, 98, 87, 62, 75]\n",
        "Data.sort()\n",
        "print(Data)"
      ]
    }
  ]
}