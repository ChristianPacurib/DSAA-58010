{
  "nbformat": 4,
  "nbformat_minor": 0,
  "metadata": {
    "colab": {
      "provenance": [],
      "authorship_tag": "ABX9TyNhcXQ322Cm59Ml6KyCk4+M",
      "include_colab_link": true
    },
    "kernelspec": {
      "name": "python3",
      "display_name": "Python 3"
    },
    "language_info": {
      "name": "python"
    }
  },
  "cells": [
    {
      "cell_type": "markdown",
      "metadata": {
        "id": "view-in-github",
        "colab_type": "text"
      },
      "source": [
        "<a href=\"https://colab.research.google.com/github/ChristianPacurib/DSAA-58010/blob/main/Activity1.ipynb\" target=\"_parent\"><img src=\"https://colab.research.google.com/assets/colab-badge.svg\" alt=\"Open In Colab\"/></a>"
      ]
    },
    {
      "cell_type": "code",
      "execution_count": 2,
      "metadata": {
        "colab": {
          "base_uri": "https://localhost:8080/"
        },
        "id": "alT-T-G4-CVn",
        "outputId": "8dda6e0f-fa98-4d82-8467-e720da717053"
      },
      "outputs": [
        {
          "output_type": "stream",
          "name": "stdout",
          "text": [
            "['cat', 'dog', 'fish']\n"
          ]
        }
      ],
      "source": [
        "animals = [\"dog\",\"fish\",\"cat\"]\n",
        "animals.sort()\n",
        "print(animals)"
      ]
    },
    {
      "cell_type": "markdown",
      "source": [
        "#Number 1"
      ],
      "metadata": {
        "id": "AtqCChhv_tjm"
      }
    },
    {
      "cell_type": "code",
      "source": [
        "Data = [89, 69, 9, 74, 87, 56, 19, 11, 77 ,88];s=0\n",
        "x = Data[6]\n",
        "y = Data[3]\n",
        "print(Data)\n",
        "print(x)\n",
        "print(y)\n",
        "for i,a in enumerate(Data):\n",
        "  s+=a\n",
        "print(s)"
      ],
      "metadata": {
        "colab": {
          "base_uri": "https://localhost:8080/"
        },
        "id": "Li7h1RJT_rsg",
        "outputId": "1cf9e06c-2565-4d95-b2cd-02f1da19425b"
      },
      "execution_count": 9,
      "outputs": [
        {
          "output_type": "stream",
          "name": "stdout",
          "text": [
            "[89, 69, 9, 74, 87, 56, 19, 11, 77, 88]\n",
            "19\n",
            "74\n",
            "579\n"
          ]
        }
      ]
    },
    {
      "cell_type": "markdown",
      "source": [
        "#Number 2"
      ],
      "metadata": {
        "id": "hxS4ACF7_sRG"
      }
    },
    {
      "cell_type": "code",
      "source": [
        "numbers = [1, 2, 3, 4, 5, 6, 7, 8, 9, 10]\n",
        "numbers.append(11)\n",
        "print(numbers)"
      ],
      "metadata": {
        "colab": {
          "base_uri": "https://localhost:8080/"
        },
        "id": "7ZAl9VguCkAW",
        "outputId": "2e6a795b-daab-4484-ac2e-c79444010b82"
      },
      "execution_count": 10,
      "outputs": [
        {
          "output_type": "stream",
          "name": "stdout",
          "text": [
            "[1, 2, 3, 4, 5, 6, 7, 8, 9, 10, 11]\n"
          ]
        }
      ]
    },
    {
      "cell_type": "markdown",
      "source": [
        "#Number 3"
      ],
      "metadata": {
        "id": "u4hlSLW_DHb8"
      }
    },
    {
      "cell_type": "code",
      "source": [
        "numbers = [1, 2, 3, 4, 5, 6, 7, 8, 9, 10]\n",
        "numbers.insert(1, 1.5)\n",
        "print(numbers)"
      ],
      "metadata": {
        "colab": {
          "base_uri": "https://localhost:8080/"
        },
        "id": "z8aF8PXQDLZ7",
        "outputId": "c192d6c4-931e-4ab3-894e-f73f62875920"
      },
      "execution_count": 16,
      "outputs": [
        {
          "output_type": "stream",
          "name": "stdout",
          "text": [
            "[1, 1.5, 2, 3, 4, 5, 6, 7, 8, 9, 10]\n"
          ]
        }
      ]
    },
    {
      "cell_type": "markdown",
      "source": [
        "#Number 4"
      ],
      "metadata": {
        "id": "bSds7Ik9Eujv"
      }
    },
    {
      "cell_type": "code",
      "source": [
        "numbers = [5, 4, 3, 2, 1]\n",
        "numbers.sort()\n",
        "print(numbers)"
      ],
      "metadata": {
        "colab": {
          "base_uri": "https://localhost:8080/"
        },
        "id": "IPdoMJ-cEyMO",
        "outputId": "c233ce4c-c205-4c24-b330-57a33967029f"
      },
      "execution_count": 17,
      "outputs": [
        {
          "output_type": "stream",
          "name": "stdout",
          "text": [
            "[1, 2, 3, 4, 5]\n"
          ]
        }
      ]
    },
    {
      "cell_type": "markdown",
      "source": [
        "#Number 5"
      ],
      "metadata": {
        "id": "TCRvH_RoFK12"
      }
    },
    {
      "cell_type": "code",
      "source": [
        "numbers = [5, 4, 3, 2, 1]\n",
        "n = len(numbers)\n",
        "print(n)"
      ],
      "metadata": {
        "colab": {
          "base_uri": "https://localhost:8080/"
        },
        "id": "fr09HjTRFN_2",
        "outputId": "f60e3aed-ba3a-4209-b7a2-af32bd9a05e4"
      },
      "execution_count": 18,
      "outputs": [
        {
          "output_type": "stream",
          "name": "stdout",
          "text": [
            "5\n"
          ]
        }
      ]
    }
  ]
}