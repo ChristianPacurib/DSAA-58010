{
  "nbformat": 4,
  "nbformat_minor": 0,
  "metadata": {
    "colab": {
      "provenance": [],
      "authorship_tag": "ABX9TyN9uKpUGPuigZaj9EZFIL8o",
      "include_colab_link": true
    },
    "kernelspec": {
      "name": "python3",
      "display_name": "Python 3"
    },
    "language_info": {
      "name": "python"
    }
  },
  "cells": [
    {
      "cell_type": "markdown",
      "metadata": {
        "id": "view-in-github",
        "colab_type": "text"
      },
      "source": [
        "<a href=\"https://colab.research.google.com/github/ChristianPacurib/DSAA-58010/blob/main/Long_Quiz_2.ipynb\" target=\"_parent\"><img src=\"https://colab.research.google.com/assets/colab-badge.svg\" alt=\"Open In Colab\"/></a>"
      ]
    },
    {
      "cell_type": "code",
      "source": [
        "graph = {\n",
        "    'E': {'I': 33, 'K': 41},\n",
        "    'F': {'J': 32, 'K': 51, 'P': 70},\n",
        "    'H': {'I': 16, 'J': 22},\n",
        "    'I': {'E': 33, 'H': 16},\n",
        "    'J': {'F': 32, 'H': 22},\n",
        "    'K': {'E': 41, 'F': 51},\n",
        "    'M': {'E': 69},\n",
        "    'P': {'F': 70}\n",
        "}\n",
        "\n",
        "# Display all vertices and edges\n",
        "print(\"Vertices:\")\n",
        "for vertex in graph:\n",
        "    print(f\"  {vertex}\")\n",
        "\n",
        "print(\"Edges:\")\n",
        "for vertex, edges in graph.items():\n",
        "    for edge, weight in edges.items():\n",
        "        print(f\"  Edge from {vertex} to {edge} with weight {weight}\")"
      ],
      "metadata": {
        "colab": {
          "base_uri": "https://localhost:8080/"
        },
        "id": "X-T1xjtnRRNA",
        "outputId": "8f2b4678-bd22-487a-f19c-d0712d59b254"
      },
      "execution_count": 2,
      "outputs": [
        {
          "output_type": "stream",
          "name": "stdout",
          "text": [
            "Vertices:\n",
            "  E\n",
            "  F\n",
            "  H\n",
            "  I\n",
            "  J\n",
            "  K\n",
            "  M\n",
            "  P\n",
            "Edges:\n",
            "  Edge from E to I with weight 33\n",
            "  Edge from E to K with weight 41\n",
            "  Edge from F to J with weight 32\n",
            "  Edge from F to K with weight 51\n",
            "  Edge from F to P with weight 70\n",
            "  Edge from H to I with weight 16\n",
            "  Edge from H to J with weight 22\n",
            "  Edge from I to E with weight 33\n",
            "  Edge from I to H with weight 16\n",
            "  Edge from J to F with weight 32\n",
            "  Edge from J to H with weight 22\n",
            "  Edge from K to E with weight 41\n",
            "  Edge from K to F with weight 51\n",
            "  Edge from M to E with weight 69\n",
            "  Edge from P to F with weight 70\n"
          ]
        }
      ]
    }
  ]
}