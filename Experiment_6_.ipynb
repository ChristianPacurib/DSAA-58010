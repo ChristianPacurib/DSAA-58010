{
  "nbformat": 4,
  "nbformat_minor": 0,
  "metadata": {
    "colab": {
      "provenance": [],
      "authorship_tag": "ABX9TyO8gmq1B2qTKiry6q5I4ByG",
      "include_colab_link": true
    },
    "kernelspec": {
      "name": "python3",
      "display_name": "Python 3"
    },
    "language_info": {
      "name": "python"
    }
  },
  "cells": [
    {
      "cell_type": "markdown",
      "metadata": {
        "id": "view-in-github",
        "colab_type": "text"
      },
      "source": [
        "<a href=\"https://colab.research.google.com/github/ChristianPacurib/DSAA-58010/blob/main/Experiment_6_.ipynb\" target=\"_parent\"><img src=\"https://colab.research.google.com/assets/colab-badge.svg\" alt=\"Open In Colab\"/></a>"
      ]
    },
    {
      "cell_type": "code",
      "execution_count": 1,
      "metadata": {
        "colab": {
          "base_uri": "https://localhost:8080/"
        },
        "id": "xMIzPFGTtY43",
        "outputId": "af67ad6c-7693-46f8-c020-61f63f576ccb"
      },
      "outputs": [
        {
          "output_type": "stream",
          "name": "stdout",
          "text": [
            "Initial State: ['a', 'b', 'c', 'd', 'e', 'f']\n",
            "Access Sequence: ['a', 'b', 'c', 'd', 'e', 'f', 'a', 'c', 'f', 'b', 'd', 'e']\n",
            "Final State: ['e', 'd', 'b', 'f', 'c', 'a']\n"
          ]
        }
      ],
      "source": [
        "def move_to_front(lst, sequence):\n",
        "    for element in sequence:\n",
        "        if element in lst:\n",
        "            lst.remove(element)\n",
        "            lst.insert(0, element)\n",
        "    return lst\n",
        "\n",
        "initial_list = ['a', 'b', 'c', 'd', 'e', 'f']\n",
        "\n",
        "access_sequence = ['a', 'b', 'c', 'd', 'e', 'f', 'a', 'c', 'f', 'b', 'd', 'e']\n",
        "\n",
        "final_state = move_to_front(initial_list.copy(), access_sequence)\n",
        "\n",
        "print(\"Initial State:\", initial_list)\n",
        "print(\"Access Sequence:\", access_sequence)\n",
        "print(\"Final State:\", final_state)"
      ]
    }
  ]
}