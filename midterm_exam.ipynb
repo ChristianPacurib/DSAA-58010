{
  "nbformat": 4,
  "nbformat_minor": 0,
  "metadata": {
    "colab": {
      "provenance": [],
      "authorship_tag": "ABX9TyOmxrnfe8jvTsv+Q5rbXB/s",
      "include_colab_link": true
    },
    "kernelspec": {
      "name": "python3",
      "display_name": "Python 3"
    },
    "language_info": {
      "name": "python"
    }
  },
  "cells": [
    {
      "cell_type": "markdown",
      "metadata": {
        "id": "view-in-github",
        "colab_type": "text"
      },
      "source": [
        "<a href=\"https://colab.research.google.com/github/ChristianPacurib/DSAA-58010/blob/main/midterm_exam.ipynb\" target=\"_parent\"><img src=\"https://colab.research.google.com/assets/colab-badge.svg\" alt=\"Open In Colab\"/></a>"
      ]
    },
    {
      "cell_type": "code",
      "execution_count": 13,
      "metadata": {
        "colab": {
          "base_uri": "https://localhost:8080/"
        },
        "id": "47KylnNSb1lq",
        "outputId": "22a4bd84-20fc-4e70-fdb3-bd8c21014f06"
      },
      "outputs": [
        {
          "output_type": "stream",
          "name": "stdout",
          "text": [
            "[{'B', 'A'}, {'B', 'E'}, {'B', 'F'}, {'B', 'C'}, {'C', 'E'}, {'C', 'F'}, {'M', 'C'}, {'C', 'I'}, {'C', 'D'}, {'L', 'D'}, {'K', 'D'}, {'N', 'E'}, {'G', 'F'}, {'F', 'I'}, {'G', 'I'}, {'G', 'J'}, {'J', 'I'}, {'K', 'I'}, {'K', 'J'}, {'L', 'P'}, {'M', 'L'}, {'M', 'N'}, {'M', 'P'}, {'N', 'O'}, {'M', 'O'}, {'P', 'O'}]\n",
            "['A', 'B', 'C', 'D', 'E', 'F', 'G', 'I', 'J', 'K', 'L', 'M', 'N', 'O', 'P']\n"
          ]
        }
      ],
      "source": [
        "class Graph:\n",
        "    def __init__(self, gdict=None):\n",
        "        if gdict is None:\n",
        "            gdict = {}\n",
        "        self.gdict = gdict\n",
        "\n",
        "    def edges(self):\n",
        "        return self.find_edges()\n",
        "\n",
        "    def find_edges(self):\n",
        "        edge_names = []\n",
        "        for vertex in self.gdict:\n",
        "            for next_vertex in self.gdict[vertex]:\n",
        "                if {next_vertex, vertex} not in edge_names:\n",
        "                    edge_names.append({vertex, next_vertex})\n",
        "        return edge_names\n",
        "\n",
        "\n",
        "graph_elements = {\n",
        "    \"A\": [\"B\"],\n",
        "    \"B\": [\"E\", \"F\", \"C\"],\n",
        "    \"C\": [\"E\", \"F\", \"B\",\"M\",\"I\",\"D\"],\n",
        "    \"D\": [\"C\",\"L\",\"K\"],\n",
        "    \"E\": [\"B\",\"C\",\"N\"],\n",
        "    \"F\": [\"B\", \"C\",\"G\",\"I\"],\n",
        "    \"G\": [\"I\", \"J\",\"F\"],\n",
        "    \"I\": [\"C\", \"F\",\"G\",\"J\",\"K\"],\n",
        "    \"J\": [\"I\",\"K\",\"G\"],\n",
        "    \"K\": [\"D\",\"I\",\"J\"],\n",
        "    \"L\": [\"P\", \"M\",\"D\"],\n",
        "    \"M\": [\"N\", \"P\",\"L\",\"C\"],\n",
        "    \"N\": [\"O\", \"M\",\"E\"],\n",
        "    \"O\": [\"N\",\"M\",\"P\"],\n",
        "    \"P\": [\"M\",\"O\",\"L\"]\n",
        "}\n",
        "\n",
        "g = Graph(graph_elements)\n",
        "print(g.edges())\n",
        "\n",
        "\n",
        "class Graph:\n",
        "    def __init__(self, gdict=None):\n",
        "        if gdict is None:\n",
        "            gdict = {}\n",
        "        self.gdict = gdict\n",
        "\n",
        "    def get_vertices(self):\n",
        "        return self.get_vertices_list()\n",
        "\n",
        "    def get_vertices_list(self):\n",
        "        return list(self.gdict.keys())\n",
        "\n",
        "graph_elements = {\n",
        "    \"A\": [\"b\", \"c\"],\n",
        "    \"B\": [\"a\", \"d\"],\n",
        "    \"C\": [\"a\", \"d\"],\n",
        "    \"D\": [\"e\"],\n",
        "    \"E\": [\"d\"],\n",
        "    \"F\": [\"b\", \"c\"],\n",
        "    \"G\": [\"a\", \"d\"],\n",
        "    \"I\": [\"a\", \"d\"],\n",
        "    \"J\": [\"e\"],\n",
        "    \"K\": [\"d\"],\n",
        "    \"L\": [\"b\", \"c\"],\n",
        "    \"M\": [\"a\", \"d\"],\n",
        "    \"N\": [\"a\", \"d\"],\n",
        "    \"O\": [\"e\"],\n",
        "    \"P\": [\"d\"]\n",
        "\n",
        "}\n",
        "\n",
        "g = Graph(graph_elements)\n",
        "print(g.get_vertices())"
      ]
    }
  ]
}